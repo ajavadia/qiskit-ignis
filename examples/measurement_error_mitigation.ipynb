{
 "cells": [
  {
   "cell_type": "markdown",
   "metadata": {},
   "source": [
    "# Measurement Error Mitigation\n",
    "\n",
    "* **Last Updated:** Feb 23, 2019\n",
    "* **Requires:** qiskit-terra 0.7"
   ]
  },
  {
   "cell_type": "markdown",
   "metadata": {},
   "source": [
    "The idea behind measurement error mitigation is to prepare all 2^n basis states and measure the probability of measuring counts in the other basis states. From these calibrations, we can correct the average results of another experiment of interest."
   ]
  },
  {
   "cell_type": "code",
   "execution_count": 1,
   "metadata": {
    "collapsed": true
   },
   "outputs": [],
   "source": [
    "# Needed for functions\n",
    "import numpy as np\n",
    "import time\n",
    "\n",
    "# Import Qiskit classes\n",
    "import qiskit \n",
    "from qiskit import QuantumRegister, QuantumCircuit, ClassicalRegister, Aer\n",
    "from qiskit.providers.aer import noise\n",
    "from qiskit.tools.visualization import plot_histogram\n",
    "\n",
    "# Measurement calibration functions\n",
    "import sys, os\n",
    "sys.path.append(os.path.abspath(os.path.join('..')))\n",
    "from qiskit.ignis.error_mitigation.measurement import (measurement_calibration,\n",
    "                                                       MeasurementFitter)"
   ]
  },
  {
   "cell_type": "markdown",
   "metadata": {},
   "source": [
    "## 3 Qubit Example of the Calibration Matrices"
   ]
  },
  {
   "cell_type": "markdown",
   "metadata": {},
   "source": [
    "Here we will generate a calibration matrix for 3 qubits in a 5 qubit sample"
   ]
  },
  {
   "cell_type": "code",
   "execution_count": 2,
   "metadata": {
    "collapsed": true
   },
   "outputs": [],
   "source": [
    "# Generate a noise model for the qubits\n",
    "noise_model = noise.NoiseModel()\n",
    "for qi in range(5):\n",
    "    read_err = noise.errors.readout_error.ReadoutError([[0.9, 0.1],[0.25,0.75]])\n",
    "    noise_model.add_readout_error(read_err, [qi])"
   ]
  },
  {
   "cell_type": "code",
   "execution_count": 3,
   "metadata": {
    "collapsed": true
   },
   "outputs": [],
   "source": [
    "# Generate the calibration circuits\n",
    "qr = qiskit.QuantumRegister(5)\n",
    "meas_calibs, state_labels = measurement_calibration(qubit_list=[2,3,4], qr=qr, circlabel='mcal')"
   ]
  },
  {
   "cell_type": "code",
   "execution_count": 4,
   "metadata": {
    "collapsed": true
   },
   "outputs": [],
   "source": [
    "# Run the calibration circuits\n",
    "backend = qiskit.Aer.get_backend('qasm_simulator')\n",
    "qobj = qiskit.compile(meas_calibs, backend=backend, shots=1000)\n",
    "job = backend.run(qobj, noise_model=noise_model)\n",
    "cal_results = job.result()"
   ]
  },
  {
   "cell_type": "code",
   "execution_count": 5,
   "metadata": {},
   "outputs": [
    {
     "data": {
      "text/plain": [
       "['000', '001', '010', '011', '100', '101', '110', '111']"
      ]
     },
     "execution_count": 5,
     "metadata": {},
     "output_type": "execute_result"
    }
   ],
   "source": [
    "state_labels"
   ]
  },
  {
   "cell_type": "code",
   "execution_count": 6,
   "metadata": {},
   "outputs": [
    {
     "name": "stdout",
     "output_type": "stream",
     "text": [
      "[[0.727 0.184 0.217 0.049 0.201 0.054 0.049 0.016]\n",
      " [0.068 0.632 0.024 0.153 0.028 0.164 0.009 0.052]\n",
      " [0.09  0.021 0.595 0.18  0.018 0.008 0.168 0.039]\n",
      " [0.007 0.065 0.066 0.516 0.001 0.023 0.019 0.154]\n",
      " [0.096 0.021 0.017 0.004 0.601 0.176 0.168 0.049]\n",
      " [0.006 0.067 0.002 0.022 0.08  0.509 0.014 0.134]\n",
      " [0.005 0.006 0.077 0.024 0.065 0.021 0.52  0.129]\n",
      " [0.001 0.004 0.002 0.052 0.006 0.045 0.053 0.427]]\n"
     ]
    }
   ],
   "source": [
    "# Make a calibration matrix\n",
    "meas_fitter = MeasurementFitter(cal_results, state_labels, circlabel='mcal')\n",
    "print(meas_fitter.cal_matrix)"
   ]
  },
  {
   "cell_type": "code",
   "execution_count": 7,
   "metadata": {},
   "outputs": [
    {
     "name": "stdout",
     "output_type": "stream",
     "text": [
      "Average Measurement Fidelity: 0.565875\n",
      "Average Measurement Fidelity of Q0: 0.823875\n"
     ]
    }
   ],
   "source": [
    "# What is the measurement fidelity?\n",
    "print(\"Average Measurement Fidelity: %f\" % meas_fitter.readout_fidelity())\n",
    "\n",
    "# What is the measurement fidelity of Q0?\n",
    "print(\"Average Measurement Fidelity of Q0: %f\" % meas_fitter.readout_fidelity(\n",
    "    label_list = [['000','001','010','011'],['100','101','110','111']]))"
   ]
  },
  {
   "cell_type": "code",
   "execution_count": 8,
   "metadata": {},
   "outputs": [
    {
     "data": {
      "image/png": "[encoded data removed]",
      "text/plain": [
       "<matplotlib.figure.Figure at 0x11b02aef0>"
      ]
     },
     "metadata": {},
     "output_type": "display_data"
    }
   ],
   "source": [
    "# Plot the calibration matrix\n",
    "meas_fitter.plot_calibration()"
   ]
  },
  {
   "cell_type": "markdown",
   "metadata": {},
   "source": [
    "## Correct Measurement Noise on a 3Q GHZ State"
   ]
  },
  {
   "cell_type": "code",
   "execution_count": 9,
   "metadata": {
    "collapsed": true
   },
   "outputs": [],
   "source": [
    "# Make a 3Q GHZ state\n",
    "cr = ClassicalRegister(3)\n",
    "ghz = QuantumCircuit(qr, cr)\n",
    "ghz.h(qr[2])\n",
    "ghz.cx(qr[2], qr[3])\n",
    "ghz.cx(qr[3], qr[4])\n",
    "ghz.measure(qr[2],cr[0])\n",
    "ghz.measure(qr[3],cr[1])\n",
    "ghz.measure(qr[4],cr[2])\n",
    "\n",
    "qobj = qiskit.compile([ghz], backend=backend, shots=5000)\n",
    "job = backend.run(qobj, noise_model=noise_model)\n",
    "results = job.result()"
   ]
  },
  {
   "cell_type": "code",
   "execution_count": 12,
   "metadata": {},
   "outputs": [
    {
     "name": "stdout",
     "output_type": "stream",
     "text": [
      "Results without mitigation: {'101': 368, '111': 1037, '010': 328, '000': 1833, '100': 353, '001': 321, '011': 388, '110': 372}\n",
      "Results with mitigation: {'000': 2445.7085787294905, '001': 34.38789685660008, '011': 1.7999653417061223e-13, '100': 3.1614838242981225e-12, '101': 37.46063088646785, '110': 77.00940999172234, '111': 2405.4334835357163}\n"
     ]
    }
   ],
   "source": [
    "# Results without mitigation\n",
    "raw_counts = results.get_counts()\n",
    "\n",
    "# Results with mitigation\n",
    "mitigated_counts = meas_fitter.apply(raw_counts)"
   ]
  },
  {
   "cell_type": "code",
   "execution_count": 13,
   "metadata": {},
   "outputs": [
    {
     "data": {
      "image/png": "[encoded data removed]",
      "text/plain": [
       "<matplotlib.figure.Figure at 0x11b208b00>"
      ]
     },
     "execution_count": 13,
     "metadata": {},
     "output_type": "execute_result"
    }
   ],
   "source": [
    "from qiskit.tools.visualization import *\n",
    "plot_histogram([raw_counts, mitigated_counts], legend=['raw', 'mitigated'])"
   ]
  }
 ],
 "metadata": {
  "kernelspec": {
   "display_name": "Python 3",
   "language": "python",
   "name": "python3"
  },
  "language_info": {
   "codemirror_mode": {
    "name": "ipython",
    "version": 3
   },
   "file_extension": ".py",
   "mimetype": "text/x-python",
   "name": "python",
   "nbconvert_exporter": "python",
   "pygments_lexer": "ipython3",
   "version": "3.6.3"
  }
 },
 "nbformat": 4,
 "nbformat_minor": 2
}
